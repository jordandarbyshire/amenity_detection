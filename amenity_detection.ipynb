{
 "cells": [
  {
   "cell_type": "markdown",
   "metadata": {},
   "source": [
    "# My Capstone Project: Using Object Detection to Classify Amenities in Vacation Rental Listings"
   ]
  },
  {
   "cell_type": "markdown",
   "metadata": {},
   "source": [
    "by Jordan Darbyshire"
   ]
  },
  {
   "cell_type": "markdown",
   "metadata": {},
   "source": [
    "## **Project Overview**"
   ]
  },
  {
   "cell_type": "markdown",
   "metadata": {},
   "source": [
    "### Motivation"
   ]
  },
  {
   "cell_type": "markdown",
   "metadata": {},
   "source": [
    "The purpose of this project to identify objects from images of homes uploaded onto vacation rental sites. Potential customers browsing vacation rental sites are looking for specific amenities in their vacation rental. For example, they want an oven to cook in, a pool to swim in, a pool table for entertainment... the list goes on. When a property owner creates an ad on a vacation rental website, they would usually manually type in their amenities or select from a large list. Inaccurate amenities can result in lost revenue due to bad reviews or last-minute cancellations.\n",
    "\n",
    "Users of the website will search for properties based on their desired amenities, and will be shown a list of properties based on their preferences. What if there was an easier way to add amenities to the listing, simply by uploading the property images without the manual labor? This is where Object Detection come in."
   ]
  },
  {
   "cell_type": "markdown",
   "metadata": {},
   "source": [
    "### Inspiration"
   ]
  },
  {
   "cell_type": "markdown",
   "metadata": {},
   "source": [
    "The inspiration for this project comes from an [article](https://medium.com/airbnb-engineering/amenity-detection-and-beyond-new-frontiers-of-computer-vision-at-airbnb-144a4441b72e) I came across that highlighted an Airbnb computer vision project where they aim to detect room type by the types of objects identified in their listing photos.\n",
    "\n",
    "I was interested in this project because of my interest in the Computer Vision field, which is still rapidly evolving. I also have a love for travelling, and can draw on my experience in using vacation rental sites for this project. \n"
   ]
  },
  {
   "cell_type": "markdown",
   "metadata": {},
   "source": [
    "### Potential Applications"
   ]
  },
  {
   "cell_type": "markdown",
   "metadata": {},
   "source": [
    "Any hotel or vacation rental site such as Vrbo, Hotels.com, TripAdvisor, etc."
   ]
  },
  {
   "cell_type": "markdown",
   "metadata": {},
   "source": [
    "## **Exploratory Data Analysis**"
   ]
  },
  {
   "cell_type": "markdown",
   "metadata": {},
   "source": [
    "### About the dataset"
   ]
  },
  {
   "cell_type": "markdown",
   "metadata": {},
   "source": [
    "The dataset I used for this Capstone project is Open Images V4 (OIDv4), which contains 1.99 million images spanning 600 classes. The dataset was produced by Google. It is the largest existing dataset with object location annotations, which are bounding boxes drawn by humans to ensure accuracy and consistency [Source](https://storage.googleapis.com/openimages/web/factsfigures_v4.html). The images often show complex scenes with several objects (8 annotated objects per image on average) [Source](https://arxiv.org/abs/1811.00982). There are annual competitions hosted by Kaggle based on this dataset, for the purpose of advancing the Computer Vision field."
   ]
  },
  {
   "cell_type": "markdown",
   "metadata": {},
   "source": [
    "I chose this dataset due to the number of classes applicable to my business problem. The inclusion of the bounding box \"labels\" was also a bonus. Without these labels, I would have had to create these manually. To begin this project, I decided that I would choose the most relevant 20 classes, based on amenities that would be desirable to the consumer. The image classes I chose are indoor objects that belong to these room types: Bedroom, Bathroom, Living Room, Kitchen, and Outdoor (Swimming pool)."
   ]
  },
  {
   "cell_type": "markdown",
   "metadata": {},
   "source": [
    "### Load packages"
   ]
  },
  {
   "cell_type": "code",
   "execution_count": 8,
   "metadata": {},
   "outputs": [],
   "source": [
    "import numpy as np\n",
    "import pandas as pd\n",
    "import matplotlib.pyplot as plt\n",
    "%matplotlib inline\n",
    "\n",
    "import pathlib\n",
    "from pathlib import Path\n",
    "import urllib\n",
    "import os\n",
    "import cv2\n",
    "\n",
    "import warnings\n",
    "warnings.filterwarnings(\"ignore\")"
   ]
  },
  {
   "cell_type": "markdown",
   "metadata": {},
   "source": [
    "### Download the images"
   ]
  },
  {
   "cell_type": "markdown",
   "metadata": {},
   "source": [
    "I quickly realized that the biggest challenge with starting a project for Object Detection is putting together a custom dataset to run models. Since the Open Images dataset is so large, it would be a monumental task to download the full dataset (split into 513GB for training, 12GB for validation, and 36GB for testing) and sort through it to get what I need. The Open Images website does not provide an option to download select classes of images. Fortunately, I discovered that there are a few open source solutions to this problem. I attempted a few different \"toolkits\" that promised to solve this problem by downloading only the desired classes."
   ]
  },
  {
   "cell_type": "markdown",
   "metadata": {},
   "source": [
    "The [OIDv4 ToolKit](https://github.com/EscVM/OIDv4_ToolKit) finally allowed me to obtain only the classes I was interested in from the Open Images dataset. "
   ]
  },
  {
   "cell_type": "code",
   "execution_count": null,
   "metadata": {},
   "outputs": [],
   "source": [
    "# Download the Toolkit:\n",
    "#!git clone https://github.com/EscVM/OIDv4_ToolKit.git"
   ]
  },
  {
   "cell_type": "code",
   "execution_count": null,
   "metadata": {},
   "outputs": [],
   "source": [
    "# Download train set images for desired classes\n",
    "# The script below allowed me to copy and paste the commands into Anaconda prompt without manually editing each line:\n",
    "#for name in classes:   \n",
    "    #print(f\"python main.py downloader --classes {name} --type_csv train --limit 750\")"
   ]
  },
  {
   "cell_type": "markdown",
   "metadata": {},
   "source": [
    "I capped the number of images at 750 after observing some classes had tens of thousands of images, while half of my desired classes had less than 750 for each class."
   ]
  },
  {
   "cell_type": "code",
   "execution_count": 9,
   "metadata": {},
   "outputs": [
    {
     "data": {
      "text/plain": [
       "11907"
      ]
     },
     "execution_count": 9,
     "metadata": {},
     "output_type": "execute_result"
    }
   ],
   "source": [
    "# Look at count of .jpg files in the dataset folder\n",
    "\n",
    "data_dir = (\"data/Dataset_20\")\n",
    "data_dir = pathlib.Path(data_dir)\n",
    "\n",
    "image_count = len(list(data_dir.glob('*/*.jpg')))\n",
    "image_count "
   ]
  },
  {
   "cell_type": "markdown",
   "metadata": {},
   "source": [
    "### Examine the dataset"
   ]
  },
  {
   "cell_type": "markdown",
   "metadata": {},
   "source": [
    "After completion of the downloading process, I ended up with 11,907 images (3 GB in size)."
   ]
  },
  {
   "cell_type": "markdown",
   "metadata": {},
   "source": [
    "Every downloaded image is accompanied by a text file that contains the class name and the bounding box coordinates in Pascal VOC format (more on this later, refer to data dictionary)."
   ]
  },
  {
   "cell_type": "markdown",
   "metadata": {},
   "source": [
    "### Explore Image Dimensions"
   ]
  },
  {
   "cell_type": "code",
   "execution_count": 2,
   "metadata": {},
   "outputs": [],
   "source": [
    "# Use OpenCV to read in an image, open a window to view the image\n",
    "# OpenCV converts the image to a numpy array\n",
    "example_image = cv2.imread(\"data/Dataset_20/Bathtub/00a60d051d75144f.jpg\", cv2.IMREAD_UNCHANGED)\n",
    "\n",
    "# Opens a window to display the image\n",
    "cv2.imshow(\"image\",example_image)\n",
    "# Wait until user presses a key\n",
    "cv2.waitKey(0)\n",
    "# Closes window based on waitforkey parameter\n",
    "cv2.destroyAllWindows() "
   ]
  },
  {
   "cell_type": "code",
   "execution_count": 3,
   "metadata": {},
   "outputs": [
    {
     "name": "stdout",
     "output_type": "stream",
     "text": [
      "Image Dimension    :  (1024, 683, 3)\n",
      "Image Height       :  1024\n",
      "Image Width        :  683\n",
      "Number of Channels :  3\n",
      "Number of pixels   :  2098176\n"
     ]
    }
   ],
   "source": [
    "# Get dimensions of an image using OpenCV\n",
    "# This code is from https://www.tutorialkart.com/opencv/python/opencv-python-get-image-size/\n",
    "\n",
    "# Read an image\n",
    "image = cv2.imread(\"data/Dataset_20/Bathtub/00a60d051d75144f.jpg\", cv2.IMREAD_UNCHANGED)\n",
    " \n",
    "# Get dimensions of image using shape\n",
    "dimensions = image.shape\n",
    " \n",
    "# height, width, number of channels in image\n",
    "height = image.shape[0]\n",
    "width = image.shape[1]\n",
    "channels = image.shape[2]\n",
    "pixel_num = image.size\n",
    " \n",
    "print(\"Image Dimension    : \",dimensions)\n",
    "print(\"Image Height       : \",height)\n",
    "print(\"Image Width        : \",width)\n",
    "print(\"Number of Channels : \",channels)\n",
    "print(\"Number of pixels   : \",pixel_num)"
   ]
  },
  {
   "cell_type": "code",
   "execution_count": null,
   "metadata": {},
   "outputs": [],
   "source": [
    "# Look at the image array\n",
    "# print(image)"
   ]
  },
  {
   "cell_type": "markdown",
   "metadata": {},
   "source": [
    "### Visualize the dataset"
   ]
  },
  {
   "cell_type": "code",
   "execution_count": 4,
   "metadata": {},
   "outputs": [],
   "source": [
    "# WRITE A DOCSTRING FOR THIS FUNCTION\n",
    "\n",
    "# This function reads through Dataset folders, returns a DataFrame with number of images per class and a visualization\n",
    "# It was created with help from https://stackoverflow.com/questions/62114998/python-make-dictionary-with-folder-names-as-key-and-file-names-as-values\n",
    "# and https://thispointer.com/python-pandas-how-to-convert-lists-to-a-dataframe/\n",
    "import fnmatch\n",
    "from collections import defaultdict\n",
    "\n",
    "def visualize_dataset(path):\n",
    "    \n",
    "    data_dict=defaultdict(set)\n",
    "    global data_df\n",
    "    \n",
    "    # This code will read the images from the Dataset folder, put them into a dictionary\n",
    "    for path,dirs,files in os.walk(path):\n",
    "        for f in fnmatch.filter(files,'*.jpg'):\n",
    "            data_dict[os.path.basename(path)].add(f)\n",
    "        \n",
    "    # Get number of pictures per class, append values to lists (intermediary step to a DataFrame)\n",
    "    key_list = []\n",
    "    count_list = []\n",
    "\n",
    "    # Get number of photos per class(folder)\n",
    "    for k,v in data_dict.items():\n",
    "        value = len(list(filter(None, v)))\n",
    "        key_list.append(k)\n",
    "        count_list.append(value)\n",
    "\n",
    "    # Create a zipped list of tuples from above lists\n",
    "    zippedList =  list(zip(key_list, count_list))\n",
    "\n",
    "    data_df = pd.DataFrame(zippedList, columns = [\"Class\" , \"Image_Count\"])\n",
    "\n",
    "    data_df = data_df.sort_values(by=\"Image_Count\", ascending=False).reset_index(drop=True)\n",
    "\n",
    "    print(data_df)\n",
    "        \n",
    "    # Make a plot of number of images per class\n",
    "    plt.figure(figsize=(20,10))\n",
    "    plt.bar(data_df[\"Class\"], data_df[\"Image_Count\"])\n",
    "    plt.title(\"Number of images per class\", size=26)\n",
    "    plt.ylabel(\"Image count\", size=20)\n",
    "    plt.xticks(rotation=90, size=16)\n",
    "    plt.yticks(size=16)\n",
    "    plt.show()"
   ]
  },
  {
   "cell_type": "code",
   "execution_count": 5,
   "metadata": {},
   "outputs": [
    {
     "name": "stdout",
     "output_type": "stream",
     "text": [
      "                          Class  Image_Count\n",
      "0                           Bed          749\n",
      "1                 Swimming pool          748\n",
      "2                        Stairs          747\n",
      "3                         Chair          745\n",
      "4                          Lamp          731\n",
      "5                    Television          727\n",
      "6                         Couch          727\n",
      "7   Kitchen & dining room table          726\n",
      "8                Billiard table          666\n",
      "9                     Fireplace          657\n",
      "10                       Toilet          632\n",
      "11                         Sink          617\n",
      "12                      Bathtub          605\n",
      "13                 Refrigerator          547\n",
      "14                    Gas stove          536\n",
      "15                  Ceiling fan          463\n",
      "16              Washing machine          425\n",
      "17                    Microwave          376\n",
      "18                  Coffeemaker          295\n",
      "19                         Oven          188\n"
     ]
    },
    {
     "data": {
      "image/png": "[encoded data removed]",
      "text/plain": [
       "<Figure size 1440x720 with 1 Axes>"
      ]
     },
     "metadata": {
      "needs_background": "light"
     },
     "output_type": "display_data"
    }
   ],
   "source": [
    "visualize_dataset(\"data/Dataset_20/\")"
   ]
  },
  {
   "cell_type": "markdown",
   "metadata": {},
   "source": [
    "### Class imbalance problem"
   ]
  },
  {
   "cell_type": "markdown",
   "metadata": {},
   "source": [
    "We can see from the above graph that there is a serious issue with class imbalance in this dataset. However due to time constrains, I am going to drop 5 classes that are not well represented in the data. This will also going to help reduce training time by reducing the size of the dataset. A solution to this first problem is to employ image augmentation, where copies of images in the unbalanced classes are made by flipping, scaling, or skewing."
   ]
  },
  {
   "cell_type": "markdown",
   "metadata": {},
   "source": [
    "### Drop from 20 to 15 classes"
   ]
  },
  {
   "cell_type": "code",
   "execution_count": null,
   "metadata": {},
   "outputs": [],
   "source": [
    "# Remove classes from Dataset folder\n",
    "# import shutil\n",
    "\n",
    "# to_delete = [\"Oven\", \"Coffeemaker\", \"Microwave oven\", \"Washing machine\", \"Ceiling fan\"]\n",
    "\n",
    "# for folder in to_delete:\n",
    "\n",
    "    # Removes entire folder and contents\n",
    "    # shutil.rmtree(f\"Dataset_20/{folder}\")\n",
    "    # print(f\"The {folder} folder has been removed\")"
   ]
  },
  {
   "cell_type": "code",
   "execution_count": 10,
   "metadata": {},
   "outputs": [
    {
     "name": "stdout",
     "output_type": "stream",
     "text": [
      "                          Class  Image_Count\n",
      "0                           Bed          749\n",
      "1                 Swimming pool          748\n",
      "2                        Stairs          747\n",
      "3                         Chair          745\n",
      "4                          Lamp          731\n",
      "5                         Couch          727\n",
      "6                    Television          727\n",
      "7   Kitchen & dining room table          726\n",
      "8                Billiard table          666\n",
      "9                     Fireplace          657\n",
      "10                       Toilet          631\n",
      "11                         Sink          617\n",
      "12                      Bathtub          605\n",
      "13                 Refrigerator          547\n",
      "14                    Gas stove          536\n"
     ]
    },
    {
     "data": {
      "image/png": "[encoded data removed]",
      "text/plain": [
       "<Figure size 1440x720 with 1 Axes>"
      ]
     },
     "metadata": {
      "needs_background": "light"
     },
     "output_type": "display_data"
    }
   ],
   "source": [
    "visualize_dataset(\"data/Dataset_15/\")"
   ]
  },
  {
   "cell_type": "code",
   "execution_count": 11,
   "metadata": {},
   "outputs": [
    {
     "data": {
      "text/plain": [
       "10159"
      ]
     },
     "execution_count": 11,
     "metadata": {},
     "output_type": "execute_result"
    }
   ],
   "source": [
    "# Look at count of .jpg files in the dataset folder\n",
    "\n",
    "data_dir = (\"data/Dataset_15\")\n",
    "data_dir = pathlib.Path(data_dir)\n",
    "\n",
    "image_count = len(list(data_dir.glob('*/*.jpg')))\n",
    "image_count "
   ]
  },
  {
   "cell_type": "markdown",
   "metadata": {},
   "source": [
    "## **Data Pre-processing**"
   ]
  },
  {
   "cell_type": "code",
   "execution_count": 12,
   "metadata": {},
   "outputs": [],
   "source": [
    "from keras_retinanet import models\n",
    "from keras_retinanet.utils.image import read_image_bgr, preprocess_image, resize_image\n",
    "from keras_retinanet.utils.visualization import draw_box, draw_caption\n",
    "from keras_retinanet.utils.colors import label_color"
   ]
  },
  {
   "cell_type": "markdown",
   "metadata": {},
   "source": [
    "## Train/set split"
   ]
  },
  {
   "cell_type": "markdown",
   "metadata": {},
   "source": [
    "Due to the file structure of my images and annotations, I used a script called \"partition_dataset.py\" from GitHub to split my image and XML data into 80-20 Train-test sets."
   ]
  },
  {
   "cell_type": "code",
   "execution_count": 13,
   "metadata": {},
   "outputs": [
    {
     "name": "stdout",
     "output_type": "stream",
     "text": [
      "C:\\Users\\jorda\\Documents\\Capstone\n"
     ]
    }
   ],
   "source": [
    "%cd C:\\Users\\jorda\\Documents\\Capstone"
   ]
  },
  {
   "cell_type": "code",
   "execution_count": null,
   "metadata": {},
   "outputs": [],
   "source": [
    "#!git clone https://github.com/armaanpriyadarshan/Training-a-Custom-TensorFlow-2.X-Object-Detector.git"
   ]
  },
  {
   "cell_type": "code",
   "execution_count": null,
   "metadata": {},
   "outputs": [],
   "source": [
    "# Run this command to split the data\n",
    "\n",
    "#!python partition_dataset.py -i data/Dataset_15/Toilet -o data/Dataset_15_copy_after_split -r 0.2 -x\n",
    "#print(f\"The partition was successful\")"
   ]
  },
  {
   "cell_type": "markdown",
   "metadata": {},
   "source": [
    "## Convert annotations to XML, CSV"
   ]
  },
  {
   "cell_type": "code",
   "execution_count": null,
   "metadata": {},
   "outputs": [],
   "source": [
    "# Download tool to convert txt annotations to PASCAL VOC\n",
    "#!git clone https://github.com/thehetpandya/OIDv4_annotation_tool.git"
   ]
  },
  {
   "cell_type": "code",
   "execution_count": null,
   "metadata": {},
   "outputs": [],
   "source": [
    "# Now that annotations are in XML (Pascal), need to get them into a single csv file for Keras"
   ]
  },
  {
   "cell_type": "code",
   "execution_count": 14,
   "metadata": {},
   "outputs": [],
   "source": [
    "# Run the Pascal to CSV program\n",
    "# Source Code: https://gist.github.com/rotemtam/88d9a4efae243fc77ed4a0f9917c8f6c\n",
    "import glob\n",
    "import xml.etree.ElementTree as ET\n",
    "\n",
    "def xml_to_csv(path):\n",
    "    xml_list = []\n",
    "    for xml_file in glob.glob(path + '/*.xml'):\n",
    "        tree = ET.parse(xml_file)\n",
    "        root = tree.getroot()\n",
    "        for member in root.findall('object'):\n",
    "            bbx = member.find('bndbox')\n",
    "            xmin = int(bbx.find('xmin').text)\n",
    "            ymin = int(bbx.find('ymin').text)\n",
    "            xmax = int(bbx.find('xmax').text)\n",
    "            ymax = int(bbx.find('ymax').text)\n",
    "            label = member.find('name').text\n",
    "\n",
    "            value = (root.find('filename').text,\n",
    "                     #int(root.find('size')[0].text),\n",
    "                     #int(root.find('size')[1].text),\n",
    "                     xmin,\n",
    "                     ymin,\n",
    "                     xmax,\n",
    "                     ymax,\n",
    "                     label\n",
    "                     )\n",
    "            xml_list.append(value)\n",
    "    column_name = ['image_name', #'width', 'height',\n",
    "                   'x_min', 'y_min', 'x_max', 'y_max', 'class_name']\n",
    "    xml_df = pd.DataFrame(xml_list, columns=column_name)\n",
    "    return xml_df"
   ]
  },
  {
   "cell_type": "code",
   "execution_count": 15,
   "metadata": {},
   "outputs": [
    {
     "data": {
      "text/html": [
       "<div>\n",
       "<style scoped>\n",
       "    .dataframe tbody tr th:only-of-type {\n",
       "        vertical-align: middle;\n",
       "    }\n",
       "\n",
       "    .dataframe tbody tr th {\n",
       "        vertical-align: top;\n",
       "    }\n",
       "\n",
       "    .dataframe thead th {\n",
       "        text-align: right;\n",
       "    }\n",
       "</style>\n",
       "<table border=\"1\" class=\"dataframe\">\n",
       "  <thead>\n",
       "    <tr style=\"text-align: right;\">\n",
       "      <th></th>\n",
       "      <th>image_name</th>\n",
       "      <th>x_min</th>\n",
       "      <th>y_min</th>\n",
       "      <th>x_max</th>\n",
       "      <th>y_max</th>\n",
       "      <th>class_name</th>\n",
       "    </tr>\n",
       "  </thead>\n",
       "  <tbody>\n",
       "    <tr>\n",
       "      <th>0</th>\n",
       "      <td>00011aec5d7324f4.jpg</td>\n",
       "      <td>651</td>\n",
       "      <td>342</td>\n",
       "      <td>840</td>\n",
       "      <td>426</td>\n",
       "      <td>Gas stove</td>\n",
       "    </tr>\n",
       "    <tr>\n",
       "      <th>1</th>\n",
       "      <td>0001cb734adac2ee.jpg</td>\n",
       "      <td>5</td>\n",
       "      <td>5</td>\n",
       "      <td>1020</td>\n",
       "      <td>765</td>\n",
       "      <td>Refrigerator</td>\n",
       "    </tr>\n",
       "    <tr>\n",
       "      <th>2</th>\n",
       "      <td>00045a4fa4352fc4.jpg</td>\n",
       "      <td>0</td>\n",
       "      <td>357</td>\n",
       "      <td>952</td>\n",
       "      <td>680</td>\n",
       "      <td>Swimming pool</td>\n",
       "    </tr>\n",
       "    <tr>\n",
       "      <th>3</th>\n",
       "      <td>00046bdb3022f7aa.jpg</td>\n",
       "      <td>267</td>\n",
       "      <td>312</td>\n",
       "      <td>330</td>\n",
       "      <td>349</td>\n",
       "      <td>Lamp</td>\n",
       "    </tr>\n",
       "    <tr>\n",
       "      <th>4</th>\n",
       "      <td>00056223ec2b5aa1.jpg</td>\n",
       "      <td>0</td>\n",
       "      <td>473</td>\n",
       "      <td>167</td>\n",
       "      <td>767</td>\n",
       "      <td>Chair</td>\n",
       "    </tr>\n",
       "    <tr>\n",
       "      <th>...</th>\n",
       "      <td>...</td>\n",
       "      <td>...</td>\n",
       "      <td>...</td>\n",
       "      <td>...</td>\n",
       "      <td>...</td>\n",
       "      <td>...</td>\n",
       "    </tr>\n",
       "    <tr>\n",
       "      <th>12984</th>\n",
       "      <td>ffd7e79d4cb18e98.jpg</td>\n",
       "      <td>484</td>\n",
       "      <td>849</td>\n",
       "      <td>553</td>\n",
       "      <td>880</td>\n",
       "      <td>Lamp</td>\n",
       "    </tr>\n",
       "    <tr>\n",
       "      <th>12985</th>\n",
       "      <td>ffd7e79d4cb18e98.jpg</td>\n",
       "      <td>512</td>\n",
       "      <td>880</td>\n",
       "      <td>555</td>\n",
       "      <td>913</td>\n",
       "      <td>Lamp</td>\n",
       "    </tr>\n",
       "    <tr>\n",
       "      <th>12986</th>\n",
       "      <td>ffdae9dfe9d00503.jpg</td>\n",
       "      <td>242</td>\n",
       "      <td>341</td>\n",
       "      <td>554</td>\n",
       "      <td>652</td>\n",
       "      <td>Fireplace</td>\n",
       "    </tr>\n",
       "    <tr>\n",
       "      <th>12987</th>\n",
       "      <td>ffe4978e60297279.jpg</td>\n",
       "      <td>440</td>\n",
       "      <td>431</td>\n",
       "      <td>958</td>\n",
       "      <td>744</td>\n",
       "      <td>Chair</td>\n",
       "    </tr>\n",
       "    <tr>\n",
       "      <th>12988</th>\n",
       "      <td>ffe680faac5536de.jpg</td>\n",
       "      <td>76</td>\n",
       "      <td>705</td>\n",
       "      <td>375</td>\n",
       "      <td>1015</td>\n",
       "      <td>Toilet</td>\n",
       "    </tr>\n",
       "  </tbody>\n",
       "</table>\n",
       "<p>12989 rows × 6 columns</p>\n",
       "</div>"
      ],
      "text/plain": [
       "                 image_name  x_min  y_min  x_max  y_max     class_name\n",
       "0      00011aec5d7324f4.jpg    651    342    840    426      Gas stove\n",
       "1      0001cb734adac2ee.jpg      5      5   1020    765   Refrigerator\n",
       "2      00045a4fa4352fc4.jpg      0    357    952    680  Swimming pool\n",
       "3      00046bdb3022f7aa.jpg    267    312    330    349           Lamp\n",
       "4      00056223ec2b5aa1.jpg      0    473    167    767          Chair\n",
       "...                     ...    ...    ...    ...    ...            ...\n",
       "12984  ffd7e79d4cb18e98.jpg    484    849    553    880           Lamp\n",
       "12985  ffd7e79d4cb18e98.jpg    512    880    555    913           Lamp\n",
       "12986  ffdae9dfe9d00503.jpg    242    341    554    652      Fireplace\n",
       "12987  ffe4978e60297279.jpg    440    431    958    744          Chair\n",
       "12988  ffe680faac5536de.jpg     76    705    375   1015         Toilet\n",
       "\n",
       "[12989 rows x 6 columns]"
      ]
     },
     "execution_count": 15,
     "metadata": {},
     "output_type": "execute_result"
    }
   ],
   "source": [
    "# Look at the train dataset\n",
    "train_df = xml_to_csv(\"data/Dataset_15_split/train\")\n",
    "train_df"
   ]
  },
  {
   "cell_type": "markdown",
   "metadata": {},
   "source": [
    "The train data set has 8,127 images, with 12,989 annotations (bounding boxes)."
   ]
  },
  {
   "cell_type": "code",
   "execution_count": 16,
   "metadata": {},
   "outputs": [
    {
     "data": {
      "text/html": [
       "<div>\n",
       "<style scoped>\n",
       "    .dataframe tbody tr th:only-of-type {\n",
       "        vertical-align: middle;\n",
       "    }\n",
       "\n",
       "    .dataframe tbody tr th {\n",
       "        vertical-align: top;\n",
       "    }\n",
       "\n",
       "    .dataframe thead th {\n",
       "        text-align: right;\n",
       "    }\n",
       "</style>\n",
       "<table border=\"1\" class=\"dataframe\">\n",
       "  <thead>\n",
       "    <tr style=\"text-align: right;\">\n",
       "      <th></th>\n",
       "      <th>image_name</th>\n",
       "      <th>x_min</th>\n",
       "      <th>y_min</th>\n",
       "      <th>x_max</th>\n",
       "      <th>y_max</th>\n",
       "      <th>class_name</th>\n",
       "    </tr>\n",
       "  </thead>\n",
       "  <tbody>\n",
       "    <tr>\n",
       "      <th>0</th>\n",
       "      <td>000325b47e09c6aa.jpg</td>\n",
       "      <td>0</td>\n",
       "      <td>469</td>\n",
       "      <td>128</td>\n",
       "      <td>741</td>\n",
       "      <td>Chair</td>\n",
       "    </tr>\n",
       "    <tr>\n",
       "      <th>1</th>\n",
       "      <td>000325b47e09c6aa.jpg</td>\n",
       "      <td>0</td>\n",
       "      <td>546</td>\n",
       "      <td>183</td>\n",
       "      <td>960</td>\n",
       "      <td>Chair</td>\n",
       "    </tr>\n",
       "    <tr>\n",
       "      <th>2</th>\n",
       "      <td>00061ea456165593.jpg</td>\n",
       "      <td>196</td>\n",
       "      <td>530</td>\n",
       "      <td>481</td>\n",
       "      <td>761</td>\n",
       "      <td>Sink</td>\n",
       "    </tr>\n",
       "    <tr>\n",
       "      <th>3</th>\n",
       "      <td>00061ea456165593.jpg</td>\n",
       "      <td>604</td>\n",
       "      <td>536</td>\n",
       "      <td>875</td>\n",
       "      <td>700</td>\n",
       "      <td>Sink</td>\n",
       "    </tr>\n",
       "    <tr>\n",
       "      <th>4</th>\n",
       "      <td>000698b6a00772ac.jpg</td>\n",
       "      <td>463</td>\n",
       "      <td>393</td>\n",
       "      <td>1023</td>\n",
       "      <td>584</td>\n",
       "      <td>Bathtub</td>\n",
       "    </tr>\n",
       "    <tr>\n",
       "      <th>...</th>\n",
       "      <td>...</td>\n",
       "      <td>...</td>\n",
       "      <td>...</td>\n",
       "      <td>...</td>\n",
       "      <td>...</td>\n",
       "      <td>...</td>\n",
       "    </tr>\n",
       "    <tr>\n",
       "      <th>3286</th>\n",
       "      <td>ff4d029d6b2c461d.jpg</td>\n",
       "      <td>567</td>\n",
       "      <td>577</td>\n",
       "      <td>768</td>\n",
       "      <td>958</td>\n",
       "      <td>Toilet</td>\n",
       "    </tr>\n",
       "    <tr>\n",
       "      <th>3287</th>\n",
       "      <td>ff5d89c0517480ad.jpg</td>\n",
       "      <td>0</td>\n",
       "      <td>0</td>\n",
       "      <td>1022</td>\n",
       "      <td>575</td>\n",
       "      <td>Television</td>\n",
       "    </tr>\n",
       "    <tr>\n",
       "      <th>3288</th>\n",
       "      <td>ff9b80a751bc3ecc.jpg</td>\n",
       "      <td>51</td>\n",
       "      <td>249</td>\n",
       "      <td>894</td>\n",
       "      <td>803</td>\n",
       "      <td>Television</td>\n",
       "    </tr>\n",
       "    <tr>\n",
       "      <th>3289</th>\n",
       "      <td>ffd3a541c54324a3.jpg</td>\n",
       "      <td>167</td>\n",
       "      <td>170</td>\n",
       "      <td>291</td>\n",
       "      <td>245</td>\n",
       "      <td>Sink</td>\n",
       "    </tr>\n",
       "    <tr>\n",
       "      <th>3290</th>\n",
       "      <td>ffd3a541c54324a3.jpg</td>\n",
       "      <td>265</td>\n",
       "      <td>163</td>\n",
       "      <td>401</td>\n",
       "      <td>233</td>\n",
       "      <td>Sink</td>\n",
       "    </tr>\n",
       "  </tbody>\n",
       "</table>\n",
       "<p>3291 rows × 6 columns</p>\n",
       "</div>"
      ],
      "text/plain": [
       "                image_name  x_min  y_min  x_max  y_max  class_name\n",
       "0     000325b47e09c6aa.jpg      0    469    128    741       Chair\n",
       "1     000325b47e09c6aa.jpg      0    546    183    960       Chair\n",
       "2     00061ea456165593.jpg    196    530    481    761        Sink\n",
       "3     00061ea456165593.jpg    604    536    875    700        Sink\n",
       "4     000698b6a00772ac.jpg    463    393   1023    584     Bathtub\n",
       "...                    ...    ...    ...    ...    ...         ...\n",
       "3286  ff4d029d6b2c461d.jpg    567    577    768    958      Toilet\n",
       "3287  ff5d89c0517480ad.jpg      0      0   1022    575  Television\n",
       "3288  ff9b80a751bc3ecc.jpg     51    249    894    803  Television\n",
       "3289  ffd3a541c54324a3.jpg    167    170    291    245        Sink\n",
       "3290  ffd3a541c54324a3.jpg    265    163    401    233        Sink\n",
       "\n",
       "[3291 rows x 6 columns]"
      ]
     },
     "execution_count": 16,
     "metadata": {},
     "output_type": "execute_result"
    }
   ],
   "source": [
    "# Look at the test dataset\n",
    "test_df = xml_to_csv(\"data/Dataset_15_split/test\")\n",
    "test_df"
   ]
  },
  {
   "cell_type": "markdown",
   "metadata": {},
   "source": [
    "The test data set has 2,032 images with 3,291 annotations (bounding boxes)."
   ]
  },
  {
   "cell_type": "markdown",
   "metadata": {},
   "source": [
    "### Data Dictionary"
   ]
  },
  {
   "cell_type": "markdown",
   "metadata": {},
   "source": [
    "The annotations are now in a format required for TensorFlow modelling. Column descriptions:\n",
    "- image_name = name of the image\n",
    "- x_min, y_min = coordinates of the top-left corner of the bounding box\n",
    "- x_max, y_max = coordinates of bottom-right corner of the bounding box\n",
    "- class_name = class that the image and bounding box belong to \\\n",
    "\n",
    "**Important note:** The bounding box coordinates are in **Pascal VOC** format. The coordinates refer to the pixel values of the image (see image below for example). Other commmon annotation formats are COCO and YOLO [Bounding box guide](https://albumentations.ai/docs/getting_started/bounding_boxes_augmentation/)."
   ]
  },
  {
   "cell_type": "markdown",
   "metadata": {},
   "source": [
    "<img src=https://albumentations.ai/docs/images/getting_started/augmenting_bboxes/bbox_formats.jpg>"
   ]
  },
  {
   "cell_type": "code",
   "execution_count": null,
   "metadata": {},
   "outputs": [],
   "source": [
    "# Convert DataFrames to a CSV\n",
    "#train_df.to_csv(\"data/labels_train.csv\")\n",
    "#test_df.to_csv(\"data/labels_test.csv\")"
   ]
  },
  {
   "cell_type": "markdown",
   "metadata": {},
   "source": [
    "Let's visualize the bounding boxes on the images to complete the pre-processing step."
   ]
  },
  {
   "cell_type": "code",
   "execution_count": 17,
   "metadata": {},
   "outputs": [],
   "source": [
    "# Source code: https://www.curiousily.com/posts/object-detection-on-custom-dataset-with-tensorflow-2-and-keras-using-python/\n",
    "def show_image_objects(image_row):\n",
    "    \n",
    "    data_folder = Path(\"data/Dataset_15_split/train\")\n",
    "    \n",
    "    img_path = data_folder / image_row.image_name \n",
    "    box = [\n",
    "        image_row.x_min, image_row.y_min, image_row.x_max, image_row.y_max\n",
    "    ]\n",
    "\n",
    "    image = read_image_bgr(img_path)\n",
    "\n",
    "    draw = image.copy()\n",
    "    draw = cv2.cvtColor(draw, cv2.COLOR_BGR2RGB)\n",
    "\n",
    "    draw_box(draw, box, color=(255, 255, 0))\n",
    "\n",
    "    plt.axis('off')\n",
    "    plt.imshow(draw)\n",
    "    plt.show()"
   ]
  },
  {
   "cell_type": "code",
   "execution_count": 18,
   "metadata": {},
   "outputs": [
    {
     "data": {
      "image/png": "[encoded data removed]",
      "text/plain": [
       "<Figure size 432x288 with 1 Axes>"
      ]
     },
     "metadata": {
      "needs_background": "light"
     },
     "output_type": "display_data"
    }
   ],
   "source": [
    "show_image_objects(train_df.iloc[19])"
   ]
  },
  {
   "cell_type": "markdown",
   "metadata": {},
   "source": [
    "Now we can move ahead and do some modelling!"
   ]
  },
  {
   "cell_type": "markdown",
   "metadata": {},
   "source": [
    "## Prepare inputs for TensorFlow"
   ]
  },
  {
   "cell_type": "markdown",
   "metadata": {},
   "source": [
    "Instructions taken from the [Tensorflow Object Detection API](https://github.com/tensorflow/models/blob/master/research/object_detection/g3doc/using_your_own_dataset.md):\n",
    "1. Create Label Maps\n",
    "2. Convert dataset to TFRecord file format\n",
    "\n",
    "For every example in dataset, we need:\\\n",
    "    - An RGB image for the dataset encoded as jpeg or png.\\\n",
    "    - A list of bounding boxes for the image. Each bounding box should contain:\\\n",
    "        i. A bounding box coordinates (with origin in top left corner) defined by 4 floating point numbers - ymin, xmin, ymax, xmax. Note that we need to store the normalized coordinates (x / width, y / height) in the TFRecord dataset.\\\n",
    "        ii. The class of the object in the bounding box.\n"
   ]
  },
  {
   "cell_type": "code",
   "execution_count": null,
   "metadata": {},
   "outputs": [],
   "source": [
    "# Clone the TensorFlow models repository\n",
    "# !git clone https://github.com/tensorflow/models.git"
   ]
  },
  {
   "cell_type": "markdown",
   "metadata": {},
   "source": [
    "**1. Create Label Maps** Now that the annotations are in CSV format, we also need to create a label map which is required to make TFRecords out of dataset."
   ]
  },
  {
   "cell_type": "code",
   "execution_count": 19,
   "metadata": {},
   "outputs": [
    {
     "name": "stdout",
     "output_type": "stream",
     "text": [
      "['Bed', 'Swimming pool', 'Stairs', 'Chair', 'Lamp', 'Couch', 'Television', 'Kitchen & dining room table', 'Billiard table', 'Fireplace', 'Toilet', 'Sink', 'Bathtub', 'Refrigerator', 'Gas stove']\n"
     ]
    }
   ],
   "source": [
    "# Assign the classes to class list in order to make the label map\n",
    "s = pd.Series(data_df[\"Class\"])\n",
    "class_list = s.values.tolist()\n",
    "print(class_list)"
   ]
  },
  {
   "cell_type": "code",
   "execution_count": null,
   "metadata": {},
   "outputs": [],
   "source": [
    "# Converting the list of classes to label_map.pbtxt\n",
    "\n",
    "from object_detection.protos.string_int_label_map_pb2 import StringIntLabelMap, StringIntLabelMapItem\n",
    "from google.protobuf import text_format\n",
    "\n",
    "\n",
    "def convert_classes(classes, start=1):\n",
    "    msg = StringIntLabelMap()\n",
    "    for id, name in enumerate(classes, start=start):\n",
    "        msg.item.append(StringIntLabelMapItem(id=id, name=name))\n",
    "\n",
    "    text = str(text_format.MessageToBytes(msg, as_utf8=True), 'utf-8')\n",
    "    return text\n",
    "\n",
    "\n",
    "if __name__ == '__main__':\n",
    "    txt = convert_classes(class_list)\n",
    "    print(txt)\n",
    "    with open('label_map.pbtxt', 'w') as f:\n",
    "        f.write(txt)"
   ]
  },
  {
   "cell_type": "markdown",
   "metadata": {},
   "source": [
    "**2. Convert dataset to TFRecord file format**"
   ]
  },
  {
   "cell_type": "markdown",
   "metadata": {},
   "source": [
    "Using the Label Map, can generate a tf.Example proto for images using a script based on the TensorFlow Object Detector API. I cloned the following repository, and used the \"generate_tfrecord.py\" script. "
   ]
  },
  {
   "cell_type": "code",
   "execution_count": null,
   "metadata": {},
   "outputs": [],
   "source": [
    "#!git clone https://github.com/armaanpriyadarshan/Training-a-Custom-TensorFlow-2.X-Object-Detector.git"
   ]
  },
  {
   "cell_type": "code",
   "execution_count": null,
   "metadata": {},
   "outputs": [],
   "source": [
    "# Navigate to preprocessing folder in Tensorflow\n",
    "%cd Tensorflow/scripts/preprocessing/"
   ]
  },
  {
   "cell_type": "code",
   "execution_count": null,
   "metadata": {},
   "outputs": [],
   "source": [
    "#!python generate_tfrecord.py -x C:\\Users\\jorda\\Documents\\Capstone\\Tensorflow\\workspace\\capstone\\images\\train -l C:\\Users\\jorda\\Documents\\Capstone\\Tensorflow\\workspace\\capstone\\annotations\\label_map.pbtxt -o C:\\Users\\jorda\\Documents\\Capstone\\Tensorflow\\workspace\\capstone\\annotations\\train.record"
   ]
  },
  {
   "cell_type": "code",
   "execution_count": null,
   "metadata": {},
   "outputs": [],
   "source": [
    "#!python generate_tfrecord.py -x C:\\Users\\jorda\\Documents\\Capstone\\Tensorflow\\workspace\\capstone\\images\\test -l C:\\Users\\jorda\\Documents\\Capstone\\Tensorflow\\workspace\\capstone\\annotations\\label_map.pbtxt -o C:\\Users\\jorda\\Documents\\Capstone\\Tensorflow\\workspace\\capstone\\annotations\\test.record"
   ]
  },
  {
   "cell_type": "markdown",
   "metadata": {},
   "source": [
    "Generation of the train and test TFRecords were successful."
   ]
  },
  {
   "cell_type": "markdown",
   "metadata": {},
   "source": [
    "## **Model Training - TensorFlow**"
   ]
  },
  {
   "cell_type": "markdown",
   "metadata": {},
   "source": [
    "For this project I decided to make use of pre-trained models for object detection, rather than building a model from scratch. The benefit to this is that we are leveraging knowledge (features, weights) from previously trained models to apply to related datasets. In the case of computer vision, low-level features such as edges, shapes, corners and intensity can be shared among tasks (transfer learning). By usng pre-trained models we are saving time and computer resources which is what is needed for this large dataset and the task at hand (object detection)."
   ]
  },
  {
   "cell_type": "markdown",
   "metadata": {},
   "source": [
    "## Train dataset with pre-trained models"
   ]
  },
  {
   "cell_type": "markdown",
   "metadata": {},
   "source": [
    "System Setup:\n",
    "- Windows 10\n",
    "- Ryzen 7 AMD CPU\n",
    "- NVIDIA GeForce GTX 1660-Ti / 6GB memory\n",
    "- 16 GB RAM\n",
    "- Tensorflow-GPU Version 2.3.0\n",
    "- CUDA Toolkit 10.1\n",
    "- cuDNN 7.6.5"
   ]
  },
  {
   "cell_type": "markdown",
   "metadata": {},
   "source": [
    "I decided to make use of the GPU on my laptop to run the pre-trained models. I selected the following pre-trained models to train my amenity dataset:"
   ]
  },
  {
   "cell_type": "markdown",
   "metadata": {},
   "source": [
    "| Pre-trained model |   Feature extractor  |                        Pros                        |                      Cons                     |\n",
    "|:-----------------:|:--------------------:|:--------------------------------------------------:|:---------------------------------------------:|\n",
    "|  SSD MobileNet V2 |      VGG16 (FPN)     | Works well on large objects                        | Doesn't fare well on small objects            |\n",
    "|     RetinaNet     |    ResNet50 (FPN)    | Works well on multiple scales | None                                          |\n",
    "|       YOLOv3      | Darknet53 (FPN-like) | Very fast, works well on small objects             | Doesn't fare well on medium and large objects |"
   ]
  },
  {
   "cell_type": "markdown",
   "metadata": {},
   "source": [
    "I selected these models based on training speeds. YOLOv3 is the fastest, while RetinaNet is fast while being highly accurate. SSD MobileNet is inbetween in terms of speed and accuracy."
   ]
  },
  {
   "cell_type": "code",
   "execution_count": 20,
   "metadata": {},
   "outputs": [],
   "source": [
    "# Import TensorFlow\n",
    "import tensorflow as tf\n",
    "from tensorflow import keras"
   ]
  },
  {
   "cell_type": "code",
   "execution_count": 21,
   "metadata": {},
   "outputs": [
    {
     "name": "stdout",
     "output_type": "stream",
     "text": [
      "2.3.0\n"
     ]
    }
   ],
   "source": [
    "# Show the TensorFlow version\n",
    "print(tf.__version__)"
   ]
  },
  {
   "cell_type": "markdown",
   "metadata": {},
   "source": [
    "Turn on memory growth for GPU by running the following code prior to allocating any tensors or executing any ops [Source: TensorFlow - Using a GPU](https://www.tensorflow.org/guide/gpu). Attempts to allocate only as much GPU memory as needed for the runtime allocations (Experienced errors previously)."
   ]
  },
  {
   "cell_type": "code",
   "execution_count": 22,
   "metadata": {},
   "outputs": [
    {
     "name": "stdout",
     "output_type": "stream",
     "text": [
      "1 Physical GPUs, 1 Logical GPUs\n"
     ]
    }
   ],
   "source": [
    "# Run the following code before training\n",
    "gpus = tf.config.experimental.list_physical_devices('GPU')\n",
    "if gpus:\n",
    "  try:\n",
    "    # Currently, memory growth needs to be the same across GPUs\n",
    "    for gpu in gpus:\n",
    "      tf.config.experimental.set_memory_growth(gpu, True)\n",
    "    logical_gpus = tf.config.experimental.list_logical_devices('GPU')\n",
    "    print(len(gpus), \"Physical GPUs,\", len(logical_gpus), \"Logical GPUs\")\n",
    "  except RuntimeError as e:\n",
    "    # Memory growth must be set before GPUs have been initialized\n",
    "    print(e)\n"
   ]
  },
  {
   "cell_type": "markdown",
   "metadata": {},
   "source": [
    "## Pre-trained model no. 1: SSD MobileNet V2"
   ]
  },
  {
   "cell_type": "markdown",
   "metadata": {},
   "source": [
    "### Background:"
   ]
  },
  {
   "cell_type": "markdown",
   "metadata": {},
   "source": [
    "MobileNet V2 is a Single Shot Detector (SSD) model that goes straight from image pixels to bounding box coordinates and class probabilities in a single shot. The model is able to detect multiple objects within the image. SSD is much faster compared with two-shot RPN based approaches. [Source](https://towardsdatascience.com/review-ssd-single-shot-detector-object-detection-851a94607d11). SSD uses the VGG-16 model pre-trained on ImageNet as its base model for extracting useful image features. On top of VGG16, SSD adds several conv feature layers of decreasing sizes. They can be seen as a pyramid representation of images at different scales. The detection happens in every pyramidal layer, targeting at objects of various sizes [Source](https://lilianweng.github.io/lil-log/2018/12/27/object-detection-part-4.html#yolov2--yolo9000)\n",
    "\n",
    "The loss function is a dynamically scaled cross-entropy loss, where the scaling factor decays to zero as confidence in the correct class increases. [Source](https://medium.com/analytics-vidhya/how-focal-loss-fixes-the-class-imbalance-problem-in-object-detection-3d2e1c4da8d7)"
   ]
  },
  {
   "cell_type": "markdown",
   "metadata": {},
   "source": [
    "<img src=https://lilianweng.github.io/lil-log/assets/images/SSD-architecture.png>"
   ]
  },
  {
   "cell_type": "markdown",
   "metadata": {},
   "source": [
    "### Training"
   ]
  },
  {
   "cell_type": "markdown",
   "metadata": {},
   "source": [
    "The scripts below are taken from the TensorFlow Object Detection API. "
   ]
  },
  {
   "cell_type": "code",
   "execution_count": 23,
   "metadata": {},
   "outputs": [
    {
     "name": "stdout",
     "output_type": "stream",
     "text": [
      "C:\\Users\\jorda\\Documents\\Capstone\\Tensorflow\\workspace\\capstone\n"
     ]
    }
   ],
   "source": [
    "%cd C:\\Users\\jorda\\Documents\\Capstone\\Tensorflow\\workspace\\capstone"
   ]
  },
  {
   "cell_type": "code",
   "execution_count": null,
   "metadata": {},
   "outputs": [],
   "source": [
    "# The script below trains the model\n",
    "#!python model_main_tf2.py \\\n",
    "#    --model_dir=models/my_ssd_mobilenet_v2_fpnlite \\\n",
    "#    --pipeline_config_path=models/my_ssd_mobilenet_v2_fpnlite/pipeline.config\n",
    "#   --alsologtostderr"
   ]
  },
  {
   "cell_type": "code",
   "execution_count": null,
   "metadata": {},
   "outputs": [],
   "source": [
    "# Ensure GPU is being used\n",
    "#!nvidia-smi"
   ]
  },
  {
   "cell_type": "code",
   "execution_count": null,
   "metadata": {},
   "outputs": [],
   "source": [
    "# Start Tensorboard for monitoring training, navigate to TensorFlow/workspace/capstone\n",
    "# !tensorboard --logdir=models\\my_ssd_mobilenet_v2_fpnlite"
   ]
  },
  {
   "cell_type": "markdown",
   "metadata": {},
   "source": [
    "Training started Sep 9 @ 1:55AM. Training ended 11:04AM. Training ran for 50,000 steps (50 epochs)."
   ]
  },
  {
   "cell_type": "markdown",
   "metadata": {},
   "source": [
    "### Export Inference Graph from finished model"
   ]
  },
  {
   "cell_type": "code",
   "execution_count": null,
   "metadata": {},
   "outputs": [],
   "source": [
    "# Navigate to TensorFlow/workspace/capstone\n",
    "#!python exporter_main_v2.py \\\n",
    "#    --input_type image_tensor \\\n",
    "#    --pipeline_config_path models\\my_ssd_mobilenet_v2_fpnlite\\pipeline.config \\\n",
    "#    --trained_checkpoint_dir models\\my_ssd_mobilenet_v2_fpnlite \\\n",
    "#    --output_directory exported-models\\my_mobilenet_model"
   ]
  },
  {
   "cell_type": "markdown",
   "metadata": {},
   "source": [
    "The above script creates a file called saved_'model.pb' which is the inference graph. Copy the 'label_map.pbtxt' file into this directory to make things a bit easier for testing."
   ]
  },
  {
   "cell_type": "markdown",
   "metadata": {},
   "source": [
    "### Test out finished model"
   ]
  },
  {
   "cell_type": "code",
   "execution_count": null,
   "metadata": {},
   "outputs": [],
   "source": [
    "# Visualize test image with OpenCV\n",
    "!python TF-image-od.py \\\n",
    "    --image images/test/4ad2b99ef5fb838c.jpg"
   ]
  },
  {
   "cell_type": "markdown",
   "metadata": {},
   "source": [
    "### Evaluate model"
   ]
  },
  {
   "cell_type": "markdown",
   "metadata": {},
   "source": [
    "The script below is used to export the trained model, and used to perform inference. Was able to extract Average Precision and Average Recall, but not Accuracy. Attempted to run the eval.py script that is build to return additional metrics, but does not work with the latest version of TensorFlow. Tried to use with TensorFlow 1.15 on this computer and a separate computer, but was unable to get the script to work."
   ]
  },
  {
   "cell_type": "code",
   "execution_count": null,
   "metadata": {},
   "outputs": [],
   "source": [
    "!python model_main_tf2.py \\\n",
    "    --pipeline_config_path=exported-models\\my_mobilenet_model\\pipeline.config \\\n",
    "    --model_dir=exported-models\\my_mobilenet_model\\saved_model \\\n",
    "    --checkpoint_dir=exported-models\\my_mobilenet_model\\checkpoint \\\n",
    "    --alsologtostderr"
   ]
  },
  {
   "cell_type": "code",
   "execution_count": null,
   "metadata": {},
   "outputs": [],
   "source": [
    "# Does not work due to eager execution (old script that does not work with newer version of Tensorflow)\n",
    "# Tried to use older version of Tensorflow, did not work because my system is not compatible\n",
    "!python eval.py \\\n",
    "    --logtostderr \\\n",
    "    --checkpoint_dir=exported-models/my_mobilenet_model/checkpoint/model.ckpt \\\n",
    "    --eval_dir=exported-models/my_mobilenet_model/saved_model/eval \\\n",
    "    --pipeline_config_path=exported-models/my_mobilenet_model/pipeline.config"
   ]
  },
  {
   "cell_type": "code",
   "execution_count": null,
   "metadata": {},
   "outputs": [],
   "source": [
    "#tf.compat.v1.disable_eager_execution()"
   ]
  },
  {
   "cell_type": "code",
   "execution_count": 24,
   "metadata": {},
   "outputs": [
    {
     "data": {
      "text/plain": [
       "True"
      ]
     },
     "execution_count": 24,
     "metadata": {},
     "output_type": "execute_result"
    }
   ],
   "source": [
    "tf.executing_eagerly()"
   ]
  },
  {
   "cell_type": "code",
   "execution_count": null,
   "metadata": {},
   "outputs": [],
   "source": [
    "#tf.compat.v1.enable_eager_execution()"
   ]
  },
  {
   "cell_type": "markdown",
   "metadata": {},
   "source": [
    "### View evaluation results in Tensorboard"
   ]
  },
  {
   "cell_type": "code",
   "execution_count": null,
   "metadata": {},
   "outputs": [],
   "source": [
    "# Start TensorBoard to monitor training\n",
    "!tensorboard --logdir=exported-models\\my_mobilenet_model\\saved_model\\eval"
   ]
  },
  {
   "cell_type": "markdown",
   "metadata": {},
   "source": [
    "## Pre-trained model no. 2: RetinaNet + Keras"
   ]
  },
  {
   "cell_type": "markdown",
   "metadata": {},
   "source": [
    "### Background"
   ]
  },
  {
   "cell_type": "markdown",
   "metadata": {},
   "source": [
    "RetinaNet solved the problem of the extreme foreground-background class imbalance problem in one-stage detectors by introducing Focal Loss. \n",
    "\n",
    "In RetinaNet, a one-stage detector, by using focal loss, lower loss is contributed by “easy” negative samples so that the loss is focusing on “hard” samples, which improves the prediction accuracy. With ResNet+FPN as backbone for feature extraction, plus two task-specific subnetworks for classification and bounding box regression, forming the RetinaNet, which achieves state-of-the-art performance, outperforms Faster R-CNN, the well-known two-stage detectors."
   ]
  },
  {
   "cell_type": "markdown",
   "metadata": {},
   "source": [
    "RetinaNet is built on top of two crucial concepts - Focal Loss and Featurized Image Pyramid:\n",
    "\n",
    "1. **Focal Loss** is designed to mitigate the issue of extreme imbalance between background and foreground with objects of interest. It assigns more weight on hard, easily misclassified examples and small weight to easier ones.\n",
    "\n",
    "2. **The Featurized Image Pyramid** is the vision component of RetinaNet. It allows for object detection at different scales by stacking multiple convolutional layers [Source](https://www.curiousily.com/posts/object-detection-on-custom-dataset-with-tensorflow-2-and-keras-using-python/)."
   ]
  },
  {
   "cell_type": "markdown",
   "metadata": {},
   "source": [
    "<img src=https://developers.arcgis.com/assets/img/python-graphics/retinanet.png>"
   ]
  },
  {
   "cell_type": "markdown",
   "metadata": {},
   "source": [
    "Used this [guide](https://www.curiousily.com/posts/object-detection-on-custom-dataset-with-tensorflow-2-and-keras-using-python/) to train a RetinaNet object detection model."
   ]
  },
  {
   "cell_type": "code",
   "execution_count": null,
   "metadata": {},
   "outputs": [],
   "source": [
    "#!git clone https://github.com/fizyr/keras-retinanet.git"
   ]
  },
  {
   "cell_type": "code",
   "execution_count": null,
   "metadata": {},
   "outputs": [],
   "source": [
    "# Install keras-retinanet\n",
    "# %cd keras-retinanet/\n",
    "#! pip install ."
   ]
  },
  {
   "cell_type": "markdown",
   "metadata": {},
   "source": [
    "### Get data in format required for Keras"
   ]
  },
  {
   "cell_type": "code",
   "execution_count": 25,
   "metadata": {},
   "outputs": [],
   "source": [
    "# Keras requires two input files\n",
    "\n",
    "ANNOTATIONS_FILE = \"annotations.csv\"\n",
    "CLASSES_FILE = \"classes.csv\""
   ]
  },
  {
   "cell_type": "code",
   "execution_count": 26,
   "metadata": {},
   "outputs": [
    {
     "data": {
      "text/plain": [
       "['Bed',\n",
       " 'Swimming pool',\n",
       " 'Stairs',\n",
       " 'Chair',\n",
       " 'Lamp',\n",
       " 'Couch',\n",
       " 'Television',\n",
       " 'Kitchen & dining room table',\n",
       " 'Billiard table',\n",
       " 'Fireplace',\n",
       " 'Toilet',\n",
       " 'Sink',\n",
       " 'Bathtub',\n",
       " 'Refrigerator',\n",
       " 'Gas stove']"
      ]
     },
     "execution_count": 26,
     "metadata": {},
     "output_type": "execute_result"
    }
   ],
   "source": [
    "# Look at class list created previously\n",
    "class_list"
   ]
  },
  {
   "cell_type": "code",
   "execution_count": 27,
   "metadata": {},
   "outputs": [
    {
     "data": {
      "text/plain": [
       "[0, 1, 2, 3, 4, 5, 6, 7, 8, 9, 10, 11, 12, 13, 14, 15, 16, 17, 18, 19]"
      ]
     },
     "execution_count": 27,
     "metadata": {},
     "output_type": "execute_result"
    }
   ],
   "source": [
    "# Create numbers for the classes (indexing starts at 0)\n",
    "class_number = list(np.arange(0, 20))\n",
    "class_number"
   ]
  },
  {
   "cell_type": "code",
   "execution_count": 28,
   "metadata": {},
   "outputs": [],
   "source": [
    "# Put the two lists together into a DataFrame\n",
    "class_tuples = list(zip(class_list,class_number))\n",
    "classes_df = pd.DataFrame(class_tuples)"
   ]
  },
  {
   "cell_type": "code",
   "execution_count": 29,
   "metadata": {},
   "outputs": [],
   "source": [
    "# Headers need to be removed\n",
    "classes_df.to_csv(CLASSES_FILE, index=False, header=None)"
   ]
  },
  {
   "cell_type": "code",
   "execution_count": 30,
   "metadata": {},
   "outputs": [],
   "source": [
    "# Headers need to be removed\n",
    "train_df.to_csv(ANNOTATIONS_FILE, index=False, header=None)"
   ]
  },
  {
   "cell_type": "markdown",
   "metadata": {},
   "source": [
    "### Training"
   ]
  },
  {
   "cell_type": "markdown",
   "metadata": {},
   "source": [
    "Download pre-trained model from RetinaNet"
   ]
  },
  {
   "cell_type": "code",
   "execution_count": null,
   "metadata": {},
   "outputs": [],
   "source": [
    "#cd C:\\Users\\jorda\\Documents\\Capstone\\keras-retinanet\\keras_retinanet\\bin"
   ]
  },
  {
   "cell_type": "code",
   "execution_count": null,
   "metadata": {},
   "outputs": [],
   "source": [
    "# Download pre-trained model\n",
    "PRETRAINED_MODEL = './snapshots/_pretrained_model.h5'\n",
    "\n",
    "URL_MODEL = 'https://github.com/fizyr/keras-retinanet/releases/download/0.5.1/resnet50_coco_best_v2.1.0.h5'\n",
    "\n",
    "urllib.request.urlretrieve(URL_MODEL, PRETRAINED_MODEL)\n",
    "\n",
    "print('Downloaded pretrained model to ' + PRETRAINED_MODEL)"
   ]
  },
  {
   "cell_type": "code",
   "execution_count": null,
   "metadata": {},
   "outputs": [],
   "source": [
    "# Start TensorBoard to monitor training\n",
    "#!tensorboard --logdir=keras_retinanet\\bin\\logs\\train"
   ]
  },
  {
   "cell_type": "code",
   "execution_count": null,
   "metadata": {},
   "outputs": [],
   "source": [
    "# Ensure GPU is being used\n",
    "# !nvidia-smi"
   ]
  },
  {
   "cell_type": "code",
   "execution_count": null,
   "metadata": {},
   "outputs": [],
   "source": [
    "# Initiate training for 50 epochs\n",
    "!python train.py \\\n",
    "    --tensorboard-dir logs \\\n",
    "    --freeze-backbone \\\n",
    "    --random-transform \\\n",
    "    --weights {PRETRAINED_MODEL} \\\n",
    "    --batch-size 5 \\\n",
    "    --steps 500 \\\n",
    "    --epochs 50 \\\n",
    "    --gpu 0\\\n",
    "    --multi-gpu 1 \\\n",
    "    csv annotations.csv classes.csv"
   ]
  },
  {
   "cell_type": "markdown",
   "metadata": {},
   "source": [
    "Training started Sep 8 @ 2:15AM. Training ended 9:36AM. Training ran for 50 epochs."
   ]
  },
  {
   "cell_type": "markdown",
   "metadata": {},
   "source": [
    "### Evaluate model"
   ]
  },
  {
   "cell_type": "code",
   "execution_count": 31,
   "metadata": {},
   "outputs": [
    {
     "name": "stdout",
     "output_type": "stream",
     "text": [
      "C:\\Users\\jorda\\Documents\\Capstone\\keras-retinanet\\keras_retinanet\\bin\\_run_02\n"
     ]
    }
   ],
   "source": [
    "%cd C:\\Users\\jorda\\Documents\\Capstone\\keras-retinanet\\keras_retinanet\\bin\\_run_02"
   ]
  },
  {
   "cell_type": "code",
   "execution_count": 32,
   "metadata": {},
   "outputs": [
    {
     "data": {
      "text/plain": [
       "'snapshots\\\\resnet50_csv_50.h5'"
      ]
     },
     "execution_count": 32,
     "metadata": {},
     "output_type": "execute_result"
    }
   ],
   "source": [
    "# Load in last checkpoint\n",
    "model_path = os.path.join(\"snapshots\", sorted(os.listdir(\"snapshots\"), reverse=True)[0])\n",
    "model_path"
   ]
  },
  {
   "cell_type": "code",
   "execution_count": 33,
   "metadata": {},
   "outputs": [],
   "source": [
    "# Specify the type of feature extraction (backbone) used for the object detection\n",
    "model = models.load_model(model_path, backbone_name=\"resnet50\")\n",
    "# Convert model for Keras\n",
    "model = models.convert_model(model)"
   ]
  },
  {
   "cell_type": "code",
   "execution_count": 34,
   "metadata": {},
   "outputs": [
    {
     "data": {
      "text/plain": [
       "{0: 'Bed',\n",
       " 1: 'Swimming pool',\n",
       " 2: 'Stairs',\n",
       " 3: 'Chair',\n",
       " 4: 'Lamp',\n",
       " 5: 'Couch',\n",
       " 6: 'Television',\n",
       " 7: 'Kitchen & dining room table',\n",
       " 8: 'Billiard table',\n",
       " 9: 'Fireplace',\n",
       " 10: 'Toilet',\n",
       " 11: 'Sink',\n",
       " 12: 'Bathtub',\n",
       " 13: 'Refrigerator',\n",
       " 14: 'Gas stove'}"
      ]
     },
     "execution_count": 34,
     "metadata": {},
     "output_type": "execute_result"
    }
   ],
   "source": [
    "# Read in the label classes\n",
    "labels_to_names = pd.read_csv(CLASSES_FILE, header=None).T.loc[0].to_dict()\n",
    "labels_to_names"
   ]
  },
  {
   "cell_type": "code",
   "execution_count": 35,
   "metadata": {},
   "outputs": [],
   "source": [
    "# Function #1: Get predictions from model\n",
    "def predict(image):\n",
    "\n",
    "    image = preprocess_image(image.copy())\n",
    "    # Re-size and preprocess the image\n",
    "    image, scale = resize_image(image)\n",
    "    # Add additional dimension to image tensor\n",
    "    boxes, scores, labels = model.predict_on_batch(np.expand_dims(image, axis=0))\n",
    "    # Rescale detected boxes based on the resized iamge scale\n",
    "    boxes /= scale\n",
    "    # Return all predictions\n",
    "    return boxes, scores, labels"
   ]
  },
  {
   "cell_type": "code",
   "execution_count": 36,
   "metadata": {},
   "outputs": [],
   "source": [
    "# Function #2: Draw detected boxes on the image\n",
    "# Set minimum threshold score\n",
    "THRES_SCORE = 0.3\n",
    "\n",
    "def draw_detections(image, boxes, scores, labels):\n",
    "\n",
    "    for box, score, label in zip(boxes[0], scores[0], labels[0]):\n",
    "        if score < THRES_SCORE:\n",
    "            break\n",
    "\n",
    "    color = label_color(label)\n",
    "\n",
    "    b = box.astype(int)\n",
    "    draw_box(image, b, color=color)\n",
    "\n",
    "    caption = \"{} {:.3f}\".format(labels_to_names[label], score)\n",
    "    draw_caption(image, b, caption)"
   ]
  },
  {
   "cell_type": "code",
   "execution_count": 37,
   "metadata": {},
   "outputs": [],
   "source": [
    "# Function #3: Show detected objects along with predictions\n",
    "def show_detected_objects(image_row):\n",
    "\n",
    "    img_path = image_row.image_name\n",
    "    image = read_image_bgr(img_path)\n",
    "    boxes, scores, labels = predict(image)\n",
    "    draw = image.copy()\n",
    "    draw = cv2.cvtColor(draw, cv2.COLOR_BGR2RGB)\n",
    "    true_box = [image_row.x_min, image_row.y_min, image_row.x_max, image_row.y_max]\n",
    "\n",
    "    draw_box(draw, true_box, color=(255, 255, 0))\n",
    "    draw_detections(draw, boxes, scores, labels)\n",
    "\n",
    "    plt.axis('off')\n",
    "    plt.imshow(draw)\n",
    "    plt.imsave('predicted_image.jpg', draw)\n",
    "    \n",
    "    plt.show()"
   ]
  },
  {
   "cell_type": "code",
   "execution_count": 38,
   "metadata": {},
   "outputs": [
    {
     "data": {
      "text/html": [
       "<div>\n",
       "<style scoped>\n",
       "    .dataframe tbody tr th:only-of-type {\n",
       "        vertical-align: middle;\n",
       "    }\n",
       "\n",
       "    .dataframe tbody tr th {\n",
       "        vertical-align: top;\n",
       "    }\n",
       "\n",
       "    .dataframe thead th {\n",
       "        text-align: right;\n",
       "    }\n",
       "</style>\n",
       "<table border=\"1\" class=\"dataframe\">\n",
       "  <thead>\n",
       "    <tr style=\"text-align: right;\">\n",
       "      <th></th>\n",
       "      <th>image_name</th>\n",
       "      <th>x_min</th>\n",
       "      <th>y_min</th>\n",
       "      <th>x_max</th>\n",
       "      <th>y_max</th>\n",
       "      <th>class_name</th>\n",
       "    </tr>\n",
       "  </thead>\n",
       "  <tbody>\n",
       "    <tr>\n",
       "      <th>0</th>\n",
       "      <td>000325b47e09c6aa.jpg</td>\n",
       "      <td>0</td>\n",
       "      <td>469</td>\n",
       "      <td>128</td>\n",
       "      <td>741</td>\n",
       "      <td>Chair</td>\n",
       "    </tr>\n",
       "    <tr>\n",
       "      <th>1</th>\n",
       "      <td>000325b47e09c6aa.jpg</td>\n",
       "      <td>0</td>\n",
       "      <td>546</td>\n",
       "      <td>183</td>\n",
       "      <td>960</td>\n",
       "      <td>Chair</td>\n",
       "    </tr>\n",
       "    <tr>\n",
       "      <th>2</th>\n",
       "      <td>00061ea456165593.jpg</td>\n",
       "      <td>196</td>\n",
       "      <td>530</td>\n",
       "      <td>481</td>\n",
       "      <td>761</td>\n",
       "      <td>Sink</td>\n",
       "    </tr>\n",
       "    <tr>\n",
       "      <th>3</th>\n",
       "      <td>00061ea456165593.jpg</td>\n",
       "      <td>604</td>\n",
       "      <td>536</td>\n",
       "      <td>875</td>\n",
       "      <td>700</td>\n",
       "      <td>Sink</td>\n",
       "    </tr>\n",
       "    <tr>\n",
       "      <th>4</th>\n",
       "      <td>000698b6a00772ac.jpg</td>\n",
       "      <td>463</td>\n",
       "      <td>393</td>\n",
       "      <td>1023</td>\n",
       "      <td>584</td>\n",
       "      <td>Bathtub</td>\n",
       "    </tr>\n",
       "  </tbody>\n",
       "</table>\n",
       "</div>"
      ],
      "text/plain": [
       "             image_name  x_min  y_min  x_max  y_max class_name\n",
       "0  000325b47e09c6aa.jpg      0    469    128    741      Chair\n",
       "1  000325b47e09c6aa.jpg      0    546    183    960      Chair\n",
       "2  00061ea456165593.jpg    196    530    481    761       Sink\n",
       "3  00061ea456165593.jpg    604    536    875    700       Sink\n",
       "4  000698b6a00772ac.jpg    463    393   1023    584    Bathtub"
      ]
     },
     "execution_count": 38,
     "metadata": {},
     "output_type": "execute_result"
    }
   ],
   "source": [
    "# Will be running detections on the test images\n",
    "test_df.head()"
   ]
  },
  {
   "cell_type": "code",
   "execution_count": 39,
   "metadata": {},
   "outputs": [
    {
     "name": "stdout",
     "output_type": "stream",
     "text": [
      "C:\\Users\\jorda\\Documents\\Capstone\\keras-retinanet\\keras_retinanet\\bin\\test\n"
     ]
    }
   ],
   "source": [
    "%cd C:\\Users\\jorda\\Documents\\Capstone\\keras-retinanet\\keras_retinanet\\bin\\test"
   ]
  },
  {
   "cell_type": "code",
   "execution_count": 120,
   "metadata": {},
   "outputs": [
    {
     "data": {
      "image/png": "[encoded data removed]",
      "text/plain": [
       "<Figure size 432x288 with 1 Axes>"
      ]
     },
     "metadata": {
      "needs_background": "light"
     },
     "output_type": "display_data"
    }
   ],
   "source": [
    "# Yellow boxes are the ground-truth boxes (the true hand labeled bounding box)\n",
    "# Other colors are the predicted boxes with confidence score above 0.3\n",
    "show_detected_objects(test_df.iloc[177])"
   ]
  },
  {
   "cell_type": "markdown",
   "metadata": {},
   "source": [
    "By browsing through a few of the test images, a little less than 50% are classified correctly."
   ]
  },
  {
   "cell_type": "markdown",
   "metadata": {},
   "source": [
    "## Pre-trained model no. 3: YOLOv3"
   ]
  },
  {
   "cell_type": "markdown",
   "metadata": {},
   "source": [
    "### Background:"
   ]
  },
  {
   "cell_type": "markdown",
   "metadata": {},
   "source": [
    "I decided to try YOLOv3 due to speed (100x faster than Fast R-CNN). YOLO (You Only Look Once) looks at the whole image at test time so it's predictions are informed by global context in the image. It makes predictions with a single network evaluation unlike systems like R-CNN which require thousands for a single image [Source](https://pjreddie.com/darknet/yolo/). YOLO3 uses Darknet-53 as its backbone feature extractor, which has 53 convolutional layers trained on ImageNet. For the task of detection, 53 more layers are stacked onto it, giving a 106 layer fully convolutional underlying architecture for YOLOv3 [Source](https://towardsdatascience.com/yolo-v3-object-detection-53fb7d3bfe6b). YOLO3 is better (in terms of Average Precision) than Faster R-CNN for small objects, but behind RetinaNet. It is not as accurate as other models for medium and large objects.\n",
    "\n",
    "YOLOv3 makes detections on 3 different scales.  YOLO is a fully convolutional network and its eventual output is generated by applying a 1 x 1 kernel on a feature map. In YOLO v3, the detection is done by applying 1 x 1 detection kernels on feature maps of three different sizes at three different places in the network [Source](https://towardsdatascience.com/yolo-v3-object-detection-53fb7d3bfe6b)."
   ]
  },
  {
   "cell_type": "markdown",
   "metadata": {},
   "source": [
    "<img src=https://miro.medium.com/max/1000/1*d4Eg17IVJ0L41e7CTWLLSg.png>"
   ]
  },
  {
   "cell_type": "markdown",
   "metadata": {},
   "source": [
    "### Get data in format required for YOLO"
   ]
  },
  {
   "cell_type": "markdown",
   "metadata": {},
   "source": [
    "For the annotations, YOLO required that they bounding boxes are in normalized coordinates (numbers between 0 and 1)"
   ]
  },
  {
   "cell_type": "code",
   "execution_count": null,
   "metadata": {},
   "outputs": [],
   "source": [
    "# Clone the windows version of Darknet:\n",
    "# !git clone https://github.com/AlexeyAB/darknet.git"
   ]
  },
  {
   "cell_type": "code",
   "execution_count": null,
   "metadata": {},
   "outputs": [],
   "source": []
  },
  {
   "cell_type": "code",
   "execution_count": null,
   "metadata": {},
   "outputs": [],
   "source": []
  },
  {
   "cell_type": "code",
   "execution_count": null,
   "metadata": {},
   "outputs": [],
   "source": []
  },
  {
   "cell_type": "code",
   "execution_count": null,
   "metadata": {},
   "outputs": [],
   "source": []
  },
  {
   "cell_type": "code",
   "execution_count": null,
   "metadata": {},
   "outputs": [],
   "source": []
  },
  {
   "cell_type": "code",
   "execution_count": null,
   "metadata": {},
   "outputs": [],
   "source": []
  },
  {
   "cell_type": "markdown",
   "metadata": {},
   "source": [
    "### Get Images into Numpy Arrays"
   ]
  },
  {
   "cell_type": "markdown",
   "metadata": {},
   "source": [
    "In order for Images to go into a TensorFlow model, they to be read and decoded into integer tensors, then converted to floating point and normalized to small values (between 0 and 1)."
   ]
  },
  {
   "cell_type": "code",
   "execution_count": null,
   "metadata": {},
   "outputs": [],
   "source": [
    "# The below function converts all of the images into numpy arrays\n",
    "from PIL import Image\n",
    "from keras.preprocessing.image import load_img\n",
    "from keras.preprocessing.image import img_to_array"
   ]
  },
  {
   "cell_type": "code",
   "execution_count": null,
   "metadata": {},
   "outputs": [],
   "source": []
  },
  {
   "cell_type": "code",
   "execution_count": null,
   "metadata": {},
   "outputs": [],
   "source": []
  },
  {
   "cell_type": "code",
   "execution_count": null,
   "metadata": {},
   "outputs": [],
   "source": []
  },
  {
   "cell_type": "code",
   "execution_count": null,
   "metadata": {},
   "outputs": [],
   "source": []
  },
  {
   "cell_type": "code",
   "execution_count": null,
   "metadata": {},
   "outputs": [],
   "source": [
    "from PIL import Image\n",
    "# We need to get all of the images into arrays, which will be used to combine with the bounding boxes & labels\n",
    "for image_path in TEST_IMAGE_PATHS:\n",
    "  image = Image.open(image_path)\n",
    "  # the array based representation of the image will be used later in order to prepare the\n",
    "  # result image with boxes and labels on it.\n",
    "  image_np = load_image_into_numpy_array(image)\n",
    "plt.figure(figsize=IMAGE_SIZE)\n",
    "plt.imshow(image_np)"
   ]
  },
  {
   "cell_type": "code",
   "execution_count": null,
   "metadata": {},
   "outputs": [],
   "source": []
  },
  {
   "cell_type": "code",
   "execution_count": null,
   "metadata": {},
   "outputs": [],
   "source": []
  },
  {
   "cell_type": "markdown",
   "metadata": {},
   "source": [
    "## Image Classification"
   ]
  },
  {
   "cell_type": "code",
   "execution_count": null,
   "metadata": {},
   "outputs": [],
   "source": [
    "import tensorflow as tf\n",
    "\n",
    "from tensorflow import keras\n",
    "from tensorflow.keras import layers\n",
    "from tensorflow.keras.models import Sequential"
   ]
  },
  {
   "cell_type": "code",
   "execution_count": null,
   "metadata": {},
   "outputs": [],
   "source": [
    "from tensorflow.keras.layers import Dense,GlobalAveragePooling2D\n",
    "from tensorflow.keras.applications import MobileNetV2\n",
    "from tensorflow.keras.preprocessing import image\n",
    "from tensorflow.keras.applications.mobilenet import preprocess_input\n",
    "from tensorflow.keras.preprocessing.image import ImageDataGenerator\n",
    "from tensorflow.keras.models import Model\n",
    "from tensorflow.keras.optimizers import Adam"
   ]
  },
  {
   "cell_type": "markdown",
   "metadata": {},
   "source": [
    "## Pre-trained model no. 1: SSD MobileNet V2"
   ]
  },
  {
   "cell_type": "code",
   "execution_count": null,
   "metadata": {},
   "outputs": [],
   "source": [
    "# Import the pretrained MobileNet V2 model and do not include the final layer:\n",
    "print('loading model...')\n",
    "base_model = MobileNetV2(weights='imagenet', include_top=False)\n",
    "print('model loaded!')"
   ]
  },
  {
   "cell_type": "code",
   "execution_count": null,
   "metadata": {},
   "outputs": [],
   "source": [
    "# Final layers:\n",
    "# Assign the output of this base_model to a variable:\n",
    "base_model_out = base_model.output\n",
    "\n",
    "# Add a pooling layer:\n",
    "base_model_out = GlobalAveragePooling2D()(base_model_out)\n",
    "\n",
    "# Add 3 dense layers so that the model can learn aspects of our new dataset \n",
    "# and classify for better results.\n",
    "base_model_out = Dense(243, activation='relu')(base_model_out) \n",
    "base_model_out = Dense(243, activation='relu')(base_model_out)\n",
    "base_model_out = Dense(81, activation='relu')(base_model_out)\n",
    "\n",
    "# Add a final layer with 3 neurons, one for each class in our dataset \n",
    "# using a softmabase_model_out activation function:\n",
    "preds = Dense(15, activation='softmax')(base_model_out)\n",
    "\n",
    "# Instantiate our final model, where we specify what are the inputs and \n",
    "# the outputs will look like\n",
    "model = Model(inputs = base_model.input, \n",
    "              outputs = preds)"
   ]
  },
  {
   "cell_type": "code",
   "execution_count": null,
   "metadata": {},
   "outputs": [],
   "source": [
    "model.summary()"
   ]
  },
  {
   "cell_type": "code",
   "execution_count": null,
   "metadata": {},
   "outputs": [],
   "source": [
    "# Lock weights in pre-trained model\n",
    "for layer in model.layers[:87]:\n",
    "    layer.trainable=False\n",
    "    \n",
    "for layer in model.layers[87:]:\n",
    "    print(layer.name)\n",
    "    layer.trainable=True"
   ]
  },
  {
   "cell_type": "markdown",
   "metadata": {},
   "source": [
    "### Load data"
   ]
  },
  {
   "cell_type": "code",
   "execution_count": null,
   "metadata": {},
   "outputs": [],
   "source": [
    "%cd C:\\Users\\jorda\\Documents\\Capstone\\"
   ]
  },
  {
   "cell_type": "code",
   "execution_count": null,
   "metadata": {},
   "outputs": [],
   "source": [
    "train_datagen = ImageDataGenerator(preprocessing_function=preprocess_input) #included in our dependencies"
   ]
  },
  {
   "cell_type": "code",
   "execution_count": null,
   "metadata": {},
   "outputs": [],
   "source": [
    "train_generator = train_datagen.flow_from_directory('data/Dataset_15_after_split/train', # path to the training data folder\n",
    "                                                 target_size=(224,224),\n",
    "                                                 color_mode='rgb',\n",
    "                                                 batch_size=32,\n",
    "                                                 class_mode='categorical',\n",
    "                                                 shuffle=True)"
   ]
  },
  {
   "cell_type": "code",
   "execution_count": null,
   "metadata": {},
   "outputs": [],
   "source": [
    "label_map = train_generator.class_indices\n",
    "label_map"
   ]
  },
  {
   "cell_type": "code",
   "execution_count": null,
   "metadata": {},
   "outputs": [],
   "source": [
    "from sklearn.preprocessing import LabelEncoder\n",
    "\n",
    "# Instantiating the encoder:\n",
    "my_encoder = LabelEncoder()"
   ]
  },
  {
   "cell_type": "code",
   "execution_count": null,
   "metadata": {},
   "outputs": [],
   "source": [
    "# Fitting the encoder with the labels from 'label_map':\n",
    "my_encoder.fit(list(label_map.keys()))"
   ]
  },
  {
   "cell_type": "code",
   "execution_count": null,
   "metadata": {},
   "outputs": [],
   "source": [
    "# Verifying the encoding:\n",
    "for i, j in enumerate(my_encoder.classes_):\n",
    "    print(f'{i}: {j}')"
   ]
  },
  {
   "cell_type": "markdown",
   "metadata": {},
   "source": [
    "## Train the model"
   ]
  },
  {
   "cell_type": "code",
   "execution_count": null,
   "metadata": {},
   "outputs": [],
   "source": [
    "model.compile(optimizer='Adam',\n",
    "              loss='categorical_crossentropy',\n",
    "              metrics=['accuracy'])"
   ]
  },
  {
   "cell_type": "code",
   "execution_count": null,
   "metadata": {},
   "outputs": [],
   "source": [
    "step_size_train = train_generator.n//train_generator.batch_size + 1\n",
    "\n",
    "# 'train_generator.n' = 182 (number of datapoints; i.e. images)\n",
    "# 'train_generator.batch_size' = 32 (size of batches previously passed in)\n",
    "# 'step_size_train' = 254 (step size; needs to be int)"
   ]
  },
  {
   "cell_type": "code",
   "execution_count": null,
   "metadata": {},
   "outputs": [],
   "source": [
    "step_size_train"
   ]
  },
  {
   "cell_type": "code",
   "execution_count": null,
   "metadata": {},
   "outputs": [],
   "source": [
    "history = model.fit_generator(generator = train_generator, \n",
    "                    steps_per_epoch = step_size_train, \n",
    "                    epochs = 20)"
   ]
  },
  {
   "cell_type": "markdown",
   "metadata": {},
   "source": [
    "### Plot Accuracy Vs Loss"
   ]
  },
  {
   "cell_type": "code",
   "execution_count": null,
   "metadata": {},
   "outputs": [],
   "source": [
    "plt.figure()\n",
    "plt.plot(history.history['loss'], marker='o', label='loss')\n",
    "plt.plot(history.history['accuracy'], marker='o', label='accuracy')\n",
    "plt.title('Training Accuracy and Loss')\n",
    "plt.legend(loc='best')\n",
    "plt.xlabel('Epoch')\n",
    "plt.ylabel('Accuracy / Loss')\n",
    "plt.xlim(0, 20)\n",
    "plt.show()"
   ]
  },
  {
   "cell_type": "markdown",
   "metadata": {},
   "source": [
    "### Evaluate model"
   ]
  },
  {
   "cell_type": "code",
   "execution_count": null,
   "metadata": {},
   "outputs": [],
   "source": [
    "test_datagen = ImageDataGenerator(preprocessing_function=preprocess_input)"
   ]
  },
  {
   "cell_type": "code",
   "execution_count": null,
   "metadata": {},
   "outputs": [],
   "source": [
    "desired_batch_size=15\n",
    "\n",
    "test_generator = test_datagen.flow_from_directory('data/Dataset_15_after_split/test', # path to the training data folder\n",
    "                                                 target_size=(224,224),\n",
    "                                                 color_mode='rgb',\n",
    "                                                 batch_size=desired_batch_size,\n",
    "                                                 class_mode='categorical',\n",
    "                                                 shuffle=True)\n",
    "\n",
    "filenames = test_generator.filenames\n",
    "nb_samples = len(filenames)\n",
    "\n",
    "predict = model.predict_generator(test_generator,steps = \n",
    "                                   np.ceil(nb_samples/desired_batch_size))"
   ]
  },
  {
   "cell_type": "code",
   "execution_count": null,
   "metadata": {},
   "outputs": [],
   "source": [
    "np.array(list(label_map.keys()))"
   ]
  },
  {
   "cell_type": "code",
   "execution_count": null,
   "metadata": {},
   "outputs": [],
   "source": [
    "# Return an array of probabilities\n",
    "prediction = model.predict_generator(test_generator, steps = np.ceil(nb_samples/desired_batch_size))\n",
    "len(prediction)"
   ]
  },
  {
   "cell_type": "code",
   "execution_count": null,
   "metadata": {},
   "outputs": [],
   "source": [
    "test_true = test_generator.classes\n",
    "test_pred = prediction.argmax(axis=1)"
   ]
  },
  {
   "cell_type": "code",
   "execution_count": null,
   "metadata": {
    "scrolled": true
   },
   "outputs": [],
   "source": [
    "from sklearn.metrics import confusion_matrix\n",
    "pd.DataFrame(confusion_matrix(test_true,test_pred),\n",
    "    index = ['p1','p2','p3', 'p4','p5','p6','p7','p8','p9','p10','p11','p12','p13','p14','p15'],\n",
    "    columns =  ['t1','t2','t3', 't4','t5','t6','t7','t8','t9','t10','t11','t12','t13','t14','t15'])"
   ]
  },
  {
   "cell_type": "code",
   "execution_count": null,
   "metadata": {},
   "outputs": [],
   "source": [
    "from sklearn.metrics import accuracy_score\n",
    "accuracy_score(test_true,test_pred)"
   ]
  },
  {
   "cell_type": "markdown",
   "metadata": {},
   "source": [
    "Only getting 6% accuracy on the test set, which is horrible. I believe that this is an issue with the dataset. Each picture contains many different types of objects, so it would not be possible for a neural network to classify these images into any one class."
   ]
  },
  {
   "cell_type": "code",
   "execution_count": null,
   "metadata": {},
   "outputs": [],
   "source": []
  }
 ],
 "metadata": {
  "kernelspec": {
   "display_name": "Python [conda env:tensorflow] *",
   "language": "python",
   "name": "conda-env-tensorflow-py"
  },
  "language_info": {
   "codemirror_mode": {
    "name": "ipython",
    "version": 3
   },
   "file_extension": ".py",
   "mimetype": "text/x-python",
   "name": "python",
   "nbconvert_exporter": "python",
   "pygments_lexer": "ipython3",
   "version": "3.8.5"
  }
 },
 "nbformat": 4,
 "nbformat_minor": 4
}
